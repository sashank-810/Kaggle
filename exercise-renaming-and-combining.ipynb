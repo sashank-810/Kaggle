{
 "cells": [
  {
   "cell_type": "markdown",
   "id": "0e1371b8",
   "metadata": {
    "papermill": {
     "duration": 0.006353,
     "end_time": "2024-10-09T14:27:38.635735",
     "exception": false,
     "start_time": "2024-10-09T14:27:38.629382",
     "status": "completed"
    },
    "tags": []
   },
   "source": [
    "**This notebook is an exercise in the [Pandas](https://www.kaggle.com/learn/pandas) course.  You can reference the tutorial at [this link](https://www.kaggle.com/residentmario/renaming-and-combining).**\n",
    "\n",
    "---\n"
   ]
  },
  {
   "cell_type": "markdown",
   "id": "8b557994",
   "metadata": {
    "papermill": {
     "duration": 0.005072,
     "end_time": "2024-10-09T14:27:38.646157",
     "exception": false,
     "start_time": "2024-10-09T14:27:38.641085",
     "status": "completed"
    },
    "tags": []
   },
   "source": [
    "# Introduction\n",
    "\n",
    "Run the following cell to load your data and some utility functions."
   ]
  },
  {
   "cell_type": "code",
   "execution_count": 1,
   "id": "2a122aa4",
   "metadata": {
    "execution": {
     "iopub.execute_input": "2024-10-09T14:27:38.658430Z",
     "iopub.status.busy": "2024-10-09T14:27:38.657912Z",
     "iopub.status.idle": "2024-10-09T14:27:44.023682Z",
     "shell.execute_reply": "2024-10-09T14:27:44.022180Z"
    },
    "papermill": {
     "duration": 5.374995,
     "end_time": "2024-10-09T14:27:44.026286",
     "exception": false,
     "start_time": "2024-10-09T14:27:38.651291",
     "status": "completed"
    },
    "tags": []
   },
   "outputs": [
    {
     "name": "stdout",
     "output_type": "stream",
     "text": [
      "Setup complete.\n"
     ]
    }
   ],
   "source": [
    "import pandas as pd\n",
    "\n",
    "reviews = pd.read_csv(\"../input/wine-reviews/winemag-data-130k-v2.csv\", index_col=0)\n",
    "\n",
    "from learntools.core import binder; binder.bind(globals())\n",
    "from learntools.pandas.renaming_and_combining import *\n",
    "print(\"Setup complete.\")"
   ]
  },
  {
   "cell_type": "markdown",
   "id": "6642c9f2",
   "metadata": {
    "papermill": {
     "duration": 0.005285,
     "end_time": "2024-10-09T14:27:44.037613",
     "exception": false,
     "start_time": "2024-10-09T14:27:44.032328",
     "status": "completed"
    },
    "tags": []
   },
   "source": [
    "# Exercises\n",
    "\n",
    "View the first several lines of your data by running the cell below:"
   ]
  },
  {
   "cell_type": "code",
   "execution_count": 2,
   "id": "6a616c29",
   "metadata": {
    "execution": {
     "iopub.execute_input": "2024-10-09T14:27:44.050829Z",
     "iopub.status.busy": "2024-10-09T14:27:44.049775Z",
     "iopub.status.idle": "2024-10-09T14:27:44.076524Z",
     "shell.execute_reply": "2024-10-09T14:27:44.075186Z"
    },
    "papermill": {
     "duration": 0.036064,
     "end_time": "2024-10-09T14:27:44.079122",
     "exception": false,
     "start_time": "2024-10-09T14:27:44.043058",
     "status": "completed"
    },
    "tags": []
   },
   "outputs": [
    {
     "data": {
      "text/html": [
       "<div>\n",
       "<style scoped>\n",
       "    .dataframe tbody tr th:only-of-type {\n",
       "        vertical-align: middle;\n",
       "    }\n",
       "\n",
       "    .dataframe tbody tr th {\n",
       "        vertical-align: top;\n",
       "    }\n",
       "\n",
       "    .dataframe thead th {\n",
       "        text-align: right;\n",
       "    }\n",
       "</style>\n",
       "<table border=\"1\" class=\"dataframe\">\n",
       "  <thead>\n",
       "    <tr style=\"text-align: right;\">\n",
       "      <th></th>\n",
       "      <th>country</th>\n",
       "      <th>description</th>\n",
       "      <th>designation</th>\n",
       "      <th>points</th>\n",
       "      <th>price</th>\n",
       "      <th>province</th>\n",
       "      <th>region_1</th>\n",
       "      <th>region_2</th>\n",
       "      <th>taster_name</th>\n",
       "      <th>taster_twitter_handle</th>\n",
       "      <th>title</th>\n",
       "      <th>variety</th>\n",
       "      <th>winery</th>\n",
       "    </tr>\n",
       "  </thead>\n",
       "  <tbody>\n",
       "    <tr>\n",
       "      <th>0</th>\n",
       "      <td>Italy</td>\n",
       "      <td>Aromas include tropical fruit, broom, brimston...</td>\n",
       "      <td>Vulkà Bianco</td>\n",
       "      <td>87</td>\n",
       "      <td>NaN</td>\n",
       "      <td>Sicily &amp; Sardinia</td>\n",
       "      <td>Etna</td>\n",
       "      <td>NaN</td>\n",
       "      <td>Kerin O’Keefe</td>\n",
       "      <td>@kerinokeefe</td>\n",
       "      <td>Nicosia 2013 Vulkà Bianco  (Etna)</td>\n",
       "      <td>White Blend</td>\n",
       "      <td>Nicosia</td>\n",
       "    </tr>\n",
       "    <tr>\n",
       "      <th>1</th>\n",
       "      <td>Portugal</td>\n",
       "      <td>This is ripe and fruity, a wine that is smooth...</td>\n",
       "      <td>Avidagos</td>\n",
       "      <td>87</td>\n",
       "      <td>15.0</td>\n",
       "      <td>Douro</td>\n",
       "      <td>NaN</td>\n",
       "      <td>NaN</td>\n",
       "      <td>Roger Voss</td>\n",
       "      <td>@vossroger</td>\n",
       "      <td>Quinta dos Avidagos 2011 Avidagos Red (Douro)</td>\n",
       "      <td>Portuguese Red</td>\n",
       "      <td>Quinta dos Avidagos</td>\n",
       "    </tr>\n",
       "    <tr>\n",
       "      <th>2</th>\n",
       "      <td>US</td>\n",
       "      <td>Tart and snappy, the flavors of lime flesh and...</td>\n",
       "      <td>NaN</td>\n",
       "      <td>87</td>\n",
       "      <td>14.0</td>\n",
       "      <td>Oregon</td>\n",
       "      <td>Willamette Valley</td>\n",
       "      <td>Willamette Valley</td>\n",
       "      <td>Paul Gregutt</td>\n",
       "      <td>@paulgwine</td>\n",
       "      <td>Rainstorm 2013 Pinot Gris (Willamette Valley)</td>\n",
       "      <td>Pinot Gris</td>\n",
       "      <td>Rainstorm</td>\n",
       "    </tr>\n",
       "    <tr>\n",
       "      <th>3</th>\n",
       "      <td>US</td>\n",
       "      <td>Pineapple rind, lemon pith and orange blossom ...</td>\n",
       "      <td>Reserve Late Harvest</td>\n",
       "      <td>87</td>\n",
       "      <td>13.0</td>\n",
       "      <td>Michigan</td>\n",
       "      <td>Lake Michigan Shore</td>\n",
       "      <td>NaN</td>\n",
       "      <td>Alexander Peartree</td>\n",
       "      <td>NaN</td>\n",
       "      <td>St. Julian 2013 Reserve Late Harvest Riesling ...</td>\n",
       "      <td>Riesling</td>\n",
       "      <td>St. Julian</td>\n",
       "    </tr>\n",
       "    <tr>\n",
       "      <th>4</th>\n",
       "      <td>US</td>\n",
       "      <td>Much like the regular bottling from 2012, this...</td>\n",
       "      <td>Vintner's Reserve Wild Child Block</td>\n",
       "      <td>87</td>\n",
       "      <td>65.0</td>\n",
       "      <td>Oregon</td>\n",
       "      <td>Willamette Valley</td>\n",
       "      <td>Willamette Valley</td>\n",
       "      <td>Paul Gregutt</td>\n",
       "      <td>@paulgwine</td>\n",
       "      <td>Sweet Cheeks 2012 Vintner's Reserve Wild Child...</td>\n",
       "      <td>Pinot Noir</td>\n",
       "      <td>Sweet Cheeks</td>\n",
       "    </tr>\n",
       "  </tbody>\n",
       "</table>\n",
       "</div>"
      ],
      "text/plain": [
       "    country                                        description  \\\n",
       "0     Italy  Aromas include tropical fruit, broom, brimston...   \n",
       "1  Portugal  This is ripe and fruity, a wine that is smooth...   \n",
       "2        US  Tart and snappy, the flavors of lime flesh and...   \n",
       "3        US  Pineapple rind, lemon pith and orange blossom ...   \n",
       "4        US  Much like the regular bottling from 2012, this...   \n",
       "\n",
       "                          designation  points  price           province  \\\n",
       "0                        Vulkà Bianco      87    NaN  Sicily & Sardinia   \n",
       "1                            Avidagos      87   15.0              Douro   \n",
       "2                                 NaN      87   14.0             Oregon   \n",
       "3                Reserve Late Harvest      87   13.0           Michigan   \n",
       "4  Vintner's Reserve Wild Child Block      87   65.0             Oregon   \n",
       "\n",
       "              region_1           region_2         taster_name  \\\n",
       "0                 Etna                NaN       Kerin O’Keefe   \n",
       "1                  NaN                NaN          Roger Voss   \n",
       "2    Willamette Valley  Willamette Valley        Paul Gregutt   \n",
       "3  Lake Michigan Shore                NaN  Alexander Peartree   \n",
       "4    Willamette Valley  Willamette Valley        Paul Gregutt   \n",
       "\n",
       "  taster_twitter_handle                                              title  \\\n",
       "0          @kerinokeefe                  Nicosia 2013 Vulkà Bianco  (Etna)   \n",
       "1            @vossroger      Quinta dos Avidagos 2011 Avidagos Red (Douro)   \n",
       "2           @paulgwine       Rainstorm 2013 Pinot Gris (Willamette Valley)   \n",
       "3                   NaN  St. Julian 2013 Reserve Late Harvest Riesling ...   \n",
       "4           @paulgwine   Sweet Cheeks 2012 Vintner's Reserve Wild Child...   \n",
       "\n",
       "          variety               winery  \n",
       "0     White Blend              Nicosia  \n",
       "1  Portuguese Red  Quinta dos Avidagos  \n",
       "2      Pinot Gris            Rainstorm  \n",
       "3        Riesling           St. Julian  \n",
       "4      Pinot Noir         Sweet Cheeks  "
      ]
     },
     "execution_count": 2,
     "metadata": {},
     "output_type": "execute_result"
    }
   ],
   "source": [
    "reviews.head()"
   ]
  },
  {
   "cell_type": "markdown",
   "id": "b472786d",
   "metadata": {
    "papermill": {
     "duration": 0.005541,
     "end_time": "2024-10-09T14:27:44.091005",
     "exception": false,
     "start_time": "2024-10-09T14:27:44.085464",
     "status": "completed"
    },
    "tags": []
   },
   "source": [
    "## 1.\n",
    "`region_1` and `region_2` are pretty uninformative names for locale columns in the dataset. Create a copy of `reviews` with these columns renamed to `region` and `locale`, respectively."
   ]
  },
  {
   "cell_type": "code",
   "execution_count": 3,
   "id": "c1a7ed3b",
   "metadata": {
    "execution": {
     "iopub.execute_input": "2024-10-09T14:27:44.105789Z",
     "iopub.status.busy": "2024-10-09T14:27:44.105334Z",
     "iopub.status.idle": "2024-10-09T14:27:44.128277Z",
     "shell.execute_reply": "2024-10-09T14:27:44.126982Z"
    },
    "papermill": {
     "duration": 0.033195,
     "end_time": "2024-10-09T14:27:44.130996",
     "exception": false,
     "start_time": "2024-10-09T14:27:44.097801",
     "status": "completed"
    },
    "tags": []
   },
   "outputs": [
    {
     "data": {
      "application/javascript": [
       "parent.postMessage({\"jupyterEvent\": \"custom.exercise_interaction\", \"data\": {\"outcomeType\": 1, \"valueTowardsCompletion\": 0.25, \"interactionType\": 1, \"questionType\": 1, \"questionId\": \"1_RenameCols\", \"learnToolsVersion\": \"0.3.4\", \"failureMessage\": \"\", \"exceptionClass\": \"\", \"trace\": \"\"}}, \"*\")"
      ],
      "text/plain": [
       "<IPython.core.display.Javascript object>"
      ]
     },
     "metadata": {},
     "output_type": "display_data"
    },
    {
     "data": {
      "text/markdown": [
       "<span style=\"color:#33cc33\">Correct</span>"
      ],
      "text/plain": [
       "Correct"
      ]
     },
     "metadata": {},
     "output_type": "display_data"
    }
   ],
   "source": [
    "# Your code here\n",
    "renamed = reviews.rename(columns={'region_1':'region','region_2':'locale'})\n",
    "\n",
    "# Check your answer\n",
    "q1.check()"
   ]
  },
  {
   "cell_type": "code",
   "execution_count": 4,
   "id": "a60d5c86",
   "metadata": {
    "execution": {
     "iopub.execute_input": "2024-10-09T14:27:44.146048Z",
     "iopub.status.busy": "2024-10-09T14:27:44.145253Z",
     "iopub.status.idle": "2024-10-09T14:27:44.150206Z",
     "shell.execute_reply": "2024-10-09T14:27:44.149083Z"
    },
    "papermill": {
     "duration": 0.015703,
     "end_time": "2024-10-09T14:27:44.152720",
     "exception": false,
     "start_time": "2024-10-09T14:27:44.137017",
     "status": "completed"
    },
    "tags": []
   },
   "outputs": [],
   "source": [
    "#q1.hint()\n",
    "#q1.solution()"
   ]
  },
  {
   "cell_type": "markdown",
   "id": "c8b69b7e",
   "metadata": {
    "papermill": {
     "duration": 0.005878,
     "end_time": "2024-10-09T14:27:44.165815",
     "exception": false,
     "start_time": "2024-10-09T14:27:44.159937",
     "status": "completed"
    },
    "tags": []
   },
   "source": [
    "## 2.\n",
    "Set the index name in the dataset to `wines`."
   ]
  },
  {
   "cell_type": "code",
   "execution_count": 5,
   "id": "0bad9f2d",
   "metadata": {
    "execution": {
     "iopub.execute_input": "2024-10-09T14:27:44.179558Z",
     "iopub.status.busy": "2024-10-09T14:27:44.179141Z",
     "iopub.status.idle": "2024-10-09T14:27:44.200614Z",
     "shell.execute_reply": "2024-10-09T14:27:44.199493Z"
    },
    "papermill": {
     "duration": 0.031361,
     "end_time": "2024-10-09T14:27:44.203274",
     "exception": false,
     "start_time": "2024-10-09T14:27:44.171913",
     "status": "completed"
    },
    "tags": []
   },
   "outputs": [
    {
     "data": {
      "application/javascript": [
       "parent.postMessage({\"jupyterEvent\": \"custom.exercise_interaction\", \"data\": {\"outcomeType\": 1, \"valueTowardsCompletion\": 0.25, \"interactionType\": 1, \"questionType\": 1, \"questionId\": \"2_RenameIndex\", \"learnToolsVersion\": \"0.3.4\", \"failureMessage\": \"\", \"exceptionClass\": \"\", \"trace\": \"\"}}, \"*\")"
      ],
      "text/plain": [
       "<IPython.core.display.Javascript object>"
      ]
     },
     "metadata": {},
     "output_type": "display_data"
    },
    {
     "data": {
      "text/markdown": [
       "<span style=\"color:#33cc33\">Correct</span>"
      ],
      "text/plain": [
       "Correct"
      ]
     },
     "metadata": {},
     "output_type": "display_data"
    }
   ],
   "source": [
    "reindexed = reviews.rename_axis('wines', axis= 'rows')\n",
    "\n",
    "# Check your answer\n",
    "q2.check()"
   ]
  },
  {
   "cell_type": "code",
   "execution_count": 6,
   "id": "cef28a02",
   "metadata": {
    "execution": {
     "iopub.execute_input": "2024-10-09T14:27:44.218015Z",
     "iopub.status.busy": "2024-10-09T14:27:44.217594Z",
     "iopub.status.idle": "2024-10-09T14:27:44.222776Z",
     "shell.execute_reply": "2024-10-09T14:27:44.221373Z"
    },
    "papermill": {
     "duration": 0.015748,
     "end_time": "2024-10-09T14:27:44.225299",
     "exception": false,
     "start_time": "2024-10-09T14:27:44.209551",
     "status": "completed"
    },
    "tags": []
   },
   "outputs": [],
   "source": [
    "#q2.hint()\n",
    "#q2.solution()"
   ]
  },
  {
   "cell_type": "markdown",
   "id": "96c917ac",
   "metadata": {
    "papermill": {
     "duration": 0.00605,
     "end_time": "2024-10-09T14:27:44.237652",
     "exception": false,
     "start_time": "2024-10-09T14:27:44.231602",
     "status": "completed"
    },
    "tags": []
   },
   "source": [
    "## 3.\n",
    "The [Things on Reddit](https://www.kaggle.com/residentmario/things-on-reddit/data) dataset includes product links from a selection of top-ranked forums (\"subreddits\") on reddit.com. Run the cell below to load a dataframe of products mentioned on the */r/gaming* subreddit and another dataframe for products mentioned on the *r//movies* subreddit."
   ]
  },
  {
   "cell_type": "code",
   "execution_count": 7,
   "id": "2a1eb920",
   "metadata": {
    "execution": {
     "iopub.execute_input": "2024-10-09T14:27:44.252069Z",
     "iopub.status.busy": "2024-10-09T14:27:44.251608Z",
     "iopub.status.idle": "2024-10-09T14:27:44.266070Z",
     "shell.execute_reply": "2024-10-09T14:27:44.264971Z"
    },
    "papermill": {
     "duration": 0.025097,
     "end_time": "2024-10-09T14:27:44.269011",
     "exception": false,
     "start_time": "2024-10-09T14:27:44.243914",
     "status": "completed"
    },
    "tags": []
   },
   "outputs": [],
   "source": [
    "gaming_products = pd.read_csv(\"../input/things-on-reddit/top-things/top-things/reddits/g/gaming.csv\")\n",
    "gaming_products['subreddit'] = \"r/gaming\"\n",
    "movie_products = pd.read_csv(\"../input/things-on-reddit/top-things/top-things/reddits/m/movies.csv\")\n",
    "movie_products['subreddit'] = \"r/movies\""
   ]
  },
  {
   "cell_type": "markdown",
   "id": "b5ee818e",
   "metadata": {
    "papermill": {
     "duration": 0.006026,
     "end_time": "2024-10-09T14:27:44.281879",
     "exception": false,
     "start_time": "2024-10-09T14:27:44.275853",
     "status": "completed"
    },
    "tags": []
   },
   "source": [
    "Create a `DataFrame` of products mentioned on *either* subreddit."
   ]
  },
  {
   "cell_type": "code",
   "execution_count": 8,
   "id": "a17217e3",
   "metadata": {
    "execution": {
     "iopub.execute_input": "2024-10-09T14:27:44.297860Z",
     "iopub.status.busy": "2024-10-09T14:27:44.297443Z",
     "iopub.status.idle": "2024-10-09T14:27:44.311524Z",
     "shell.execute_reply": "2024-10-09T14:27:44.310241Z"
    },
    "papermill": {
     "duration": 0.025224,
     "end_time": "2024-10-09T14:27:44.313854",
     "exception": false,
     "start_time": "2024-10-09T14:27:44.288630",
     "status": "completed"
    },
    "tags": []
   },
   "outputs": [
    {
     "data": {
      "application/javascript": [
       "parent.postMessage({\"jupyterEvent\": \"custom.exercise_interaction\", \"data\": {\"outcomeType\": 1, \"valueTowardsCompletion\": 0.25, \"interactionType\": 1, \"questionType\": 2, \"questionId\": \"3_ConcatReddit\", \"learnToolsVersion\": \"0.3.4\", \"failureMessage\": \"\", \"exceptionClass\": \"\", \"trace\": \"\"}}, \"*\")"
      ],
      "text/plain": [
       "<IPython.core.display.Javascript object>"
      ]
     },
     "metadata": {},
     "output_type": "display_data"
    },
    {
     "data": {
      "text/markdown": [
       "<span style=\"color:#33cc33\">Correct</span>"
      ],
      "text/plain": [
       "Correct"
      ]
     },
     "metadata": {},
     "output_type": "display_data"
    }
   ],
   "source": [
    "combined_products = pd.concat([gaming_products,movie_products])\n",
    "\n",
    "# Check your answer\n",
    "q3.check()"
   ]
  },
  {
   "cell_type": "code",
   "execution_count": 9,
   "id": "2266e771",
   "metadata": {
    "execution": {
     "iopub.execute_input": "2024-10-09T14:27:44.329303Z",
     "iopub.status.busy": "2024-10-09T14:27:44.328878Z",
     "iopub.status.idle": "2024-10-09T14:27:44.333418Z",
     "shell.execute_reply": "2024-10-09T14:27:44.332289Z"
    },
    "papermill": {
     "duration": 0.01496,
     "end_time": "2024-10-09T14:27:44.335894",
     "exception": false,
     "start_time": "2024-10-09T14:27:44.320934",
     "status": "completed"
    },
    "tags": []
   },
   "outputs": [],
   "source": [
    "#q3.hint()\n",
    "#q3.solution()"
   ]
  },
  {
   "cell_type": "markdown",
   "id": "028c774f",
   "metadata": {
    "papermill": {
     "duration": 0.006289,
     "end_time": "2024-10-09T14:27:44.348885",
     "exception": false,
     "start_time": "2024-10-09T14:27:44.342596",
     "status": "completed"
    },
    "tags": []
   },
   "source": [
    "## 4.\n",
    "The [Powerlifting Database](https://www.kaggle.com/open-powerlifting/powerlifting-database) dataset on Kaggle includes one CSV table for powerlifting meets and a separate one for powerlifting competitors. Run the cell below to load these datasets into dataframes:"
   ]
  },
  {
   "cell_type": "code",
   "execution_count": 10,
   "id": "92535ee2",
   "metadata": {
    "execution": {
     "iopub.execute_input": "2024-10-09T14:27:44.364017Z",
     "iopub.status.busy": "2024-10-09T14:27:44.363563Z",
     "iopub.status.idle": "2024-10-09T14:27:45.206871Z",
     "shell.execute_reply": "2024-10-09T14:27:45.205572Z"
    },
    "papermill": {
     "duration": 0.854031,
     "end_time": "2024-10-09T14:27:45.209538",
     "exception": false,
     "start_time": "2024-10-09T14:27:44.355507",
     "status": "completed"
    },
    "tags": []
   },
   "outputs": [],
   "source": [
    "powerlifting_meets = pd.read_csv(\"../input/powerlifting-database/meets.csv\")\n",
    "powerlifting_competitors = pd.read_csv(\"../input/powerlifting-database/openpowerlifting.csv\")"
   ]
  },
  {
   "cell_type": "markdown",
   "id": "1b98f7eb",
   "metadata": {
    "papermill": {
     "duration": 0.009165,
     "end_time": "2024-10-09T14:27:45.225758",
     "exception": false,
     "start_time": "2024-10-09T14:27:45.216593",
     "status": "completed"
    },
    "tags": []
   },
   "source": [
    "Both tables include references to a `MeetID`, a unique key for each meet (competition) included in the database. Using this, generate a dataset combining the two tables into one."
   ]
  },
  {
   "cell_type": "code",
   "execution_count": 11,
   "id": "898b33da",
   "metadata": {
    "execution": {
     "iopub.execute_input": "2024-10-09T14:27:45.243254Z",
     "iopub.status.busy": "2024-10-09T14:27:45.241953Z",
     "iopub.status.idle": "2024-10-09T14:27:46.310860Z",
     "shell.execute_reply": "2024-10-09T14:27:46.309508Z"
    },
    "papermill": {
     "duration": 1.080102,
     "end_time": "2024-10-09T14:27:46.313068",
     "exception": false,
     "start_time": "2024-10-09T14:27:45.232966",
     "status": "completed"
    },
    "tags": []
   },
   "outputs": [
    {
     "data": {
      "application/javascript": [
       "parent.postMessage({\"jupyterEvent\": \"custom.exercise_interaction\", \"data\": {\"outcomeType\": 1, \"valueTowardsCompletion\": 0.25, \"interactionType\": 1, \"questionType\": 2, \"questionId\": \"4_JoinLifting\", \"learnToolsVersion\": \"0.3.4\", \"failureMessage\": \"\", \"exceptionClass\": \"\", \"trace\": \"\"}}, \"*\")"
      ],
      "text/plain": [
       "<IPython.core.display.Javascript object>"
      ]
     },
     "metadata": {},
     "output_type": "display_data"
    },
    {
     "data": {
      "text/markdown": [
       "<span style=\"color:#33cc33\">Correct</span>"
      ],
      "text/plain": [
       "Correct"
      ]
     },
     "metadata": {},
     "output_type": "display_data"
    }
   ],
   "source": [
    "left = powerlifting_meets.set_index('MeetID')\n",
    "right = powerlifting_competitors.set_index('MeetID')\n",
    "powerlifting_combined = left.join(right)\n",
    "\n",
    "# Check your answer\n",
    "q4.check()"
   ]
  },
  {
   "cell_type": "code",
   "execution_count": 12,
   "id": "a95e74b9",
   "metadata": {
    "execution": {
     "iopub.execute_input": "2024-10-09T14:27:46.328476Z",
     "iopub.status.busy": "2024-10-09T14:27:46.328072Z",
     "iopub.status.idle": "2024-10-09T14:27:46.333013Z",
     "shell.execute_reply": "2024-10-09T14:27:46.331884Z"
    },
    "papermill": {
     "duration": 0.015263,
     "end_time": "2024-10-09T14:27:46.335255",
     "exception": false,
     "start_time": "2024-10-09T14:27:46.319992",
     "status": "completed"
    },
    "tags": []
   },
   "outputs": [],
   "source": [
    "#q4.hint()\n",
    "#q4.solution()"
   ]
  },
  {
   "cell_type": "markdown",
   "id": "a1953e1e",
   "metadata": {
    "papermill": {
     "duration": 0.006747,
     "end_time": "2024-10-09T14:27:46.349014",
     "exception": false,
     "start_time": "2024-10-09T14:27:46.342267",
     "status": "completed"
    },
    "tags": []
   },
   "source": [
    "# Congratulations!\n",
    "\n",
    "You've finished the Pandas micro-course.  Many data scientists feel efficiency with Pandas is the most useful and practical skill they have, because it allows you to progress quickly in any project you have.\n",
    "\n",
    "If you'd like to apply your new skills to examining geospatial data, you're encouraged to check out our **[Geospatial Analysis](https://www.kaggle.com/learn/geospatial-analysis)** micro-course.\n",
    "\n",
    "You can also take advantage of your Pandas skills by entering a **[Kaggle Competition](https://www.kaggle.com/competitions)** or by answering a question you find interesting using **[Kaggle Datasets](https://www.kaggle.com/datasets)**."
   ]
  },
  {
   "cell_type": "markdown",
   "id": "39c56488",
   "metadata": {
    "papermill": {
     "duration": 0.006563,
     "end_time": "2024-10-09T14:27:46.362467",
     "exception": false,
     "start_time": "2024-10-09T14:27:46.355904",
     "status": "completed"
    },
    "tags": []
   },
   "source": [
    "---\n",
    "\n",
    "\n",
    "\n",
    "\n",
    "*Have questions or comments? Visit the [course discussion forum](https://www.kaggle.com/learn/pandas/discussion) to chat with other learners.*"
   ]
  }
 ],
 "metadata": {
  "kaggle": {
   "accelerator": "none",
   "dataSources": [
    {
     "datasetId": 655,
     "sourceId": 1252,
     "sourceType": "datasetVersion"
    },
    {
     "datasetId": 2321,
     "sourceId": 3919,
     "sourceType": "datasetVersion"
    },
    {
     "datasetId": 2894,
     "sourceId": 4877,
     "sourceType": "datasetVersion"
    },
    {
     "datasetId": 3491,
     "sourceId": 5624,
     "sourceType": "datasetVersion"
    },
    {
     "datasetId": 1442,
     "sourceId": 8172,
     "sourceType": "datasetVersion"
    },
    {
     "datasetId": 9366,
     "sourceId": 13206,
     "sourceType": "datasetVersion"
    },
    {
     "datasetId": 179555,
     "sourceId": 403916,
     "sourceType": "datasetVersion"
    },
    {
     "datasetId": 4549,
     "sourceId": 466349,
     "sourceType": "datasetVersion"
    },
    {
     "datasetId": 2478,
     "sourceId": 1151655,
     "sourceType": "datasetVersion"
    },
    {
     "datasetId": 10128,
     "sourceId": 5438389,
     "sourceType": "datasetVersion"
    }
   ],
   "isGpuEnabled": false,
   "isInternetEnabled": false,
   "language": "python",
   "sourceType": "notebook"
  },
  "kernelspec": {
   "display_name": "Python 3",
   "language": "python",
   "name": "python3"
  },
  "language_info": {
   "codemirror_mode": {
    "name": "ipython",
    "version": 3
   },
   "file_extension": ".py",
   "mimetype": "text/x-python",
   "name": "python",
   "nbconvert_exporter": "python",
   "pygments_lexer": "ipython3",
   "version": "3.10.14"
  },
  "papermill": {
   "default_parameters": {},
   "duration": 11.317178,
   "end_time": "2024-10-09T14:27:46.991445",
   "environment_variables": {},
   "exception": null,
   "input_path": "__notebook__.ipynb",
   "output_path": "__notebook__.ipynb",
   "parameters": {},
   "start_time": "2024-10-09T14:27:35.674267",
   "version": "2.6.0"
  }
 },
 "nbformat": 4,
 "nbformat_minor": 5
}
